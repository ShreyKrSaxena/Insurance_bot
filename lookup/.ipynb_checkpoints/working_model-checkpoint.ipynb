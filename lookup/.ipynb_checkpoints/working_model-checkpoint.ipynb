{
 "cells": [
  {
   "cell_type": "code",
   "execution_count": 1,
   "metadata": {},
   "outputs": [
    {
     "data": {
      "text/plain": [
       "'C:\\\\Users\\\\ASUS\\\\my-venv\\\\Scripts\\\\weatherbot\\\\rasabot\\\\cloned_repo\\\\12-5-19_ChatbotUsingRasa_AnujSaini\\\\MainProject'"
      ]
     },
     "execution_count": 1,
     "metadata": {},
     "output_type": "execute_result"
    }
   ],
   "source": [
    "pwd"
   ]
  },
  {
   "cell_type": "code",
   "execution_count": 2,
   "metadata": {},
   "outputs": [
    {
     "name": "stdout",
     "output_type": "stream",
     "text": [
      "absl-py==0.8.1\n",
      "alabaster==0.7.12\n",
      "anaconda-client==1.7.2\n",
      "anaconda-navigator==1.9.6\n",
      "anaconda-project==0.8.3\n",
      "APScheduler==3.6.1\n",
      "asn1crypto==1.2.0\n",
      "astor==0.8.0\n",
      "astroid==2.3.2\n",
      "astropy==3.2.2\n",
      "atomicwrites==1.3.0\n",
      "attrs==19.3.0\n",
      "Automat==0.8.0\n",
      "Babel==2.7.0\n",
      "backcall==0.1.0\n",
      "backports.os==0.1.1\n",
      "backports.shutil-get-terminal-size==1.0.0\n",
      "beautifulsoup4==4.8.1\n",
      "bitarray==1.0.1\n",
      "bkcharts==0.2\n",
      "bleach==3.1.0\n",
      "blis==0.4.1\n",
      "bokeh==1.3.4\n",
      "boto==2.49.0\n",
      "boto3==1.10.14\n",
      "botocore==1.13.14\n",
      "Bottleneck==1.2.1\n",
      "certifi==2019.6.16\n",
      "cffi==1.13.1\n",
      "chardet==3.0.4\n",
      "Click==7.0\n",
      "cloudpickle==0.6.1\n",
      "clyent==1.2.2\n",
      "colorama==0.4.1\n",
      "colorclass==2.2.0\n",
      "coloredlogs==10.0\n",
      "colorhash==1.0.2\n",
      "comtypes==1.1.7\n",
      "conda==4.7.12\n",
      "conda-build==3.17.6\n",
      "conda-package-handling==1.6.0\n",
      "conda-verify==3.1.1\n",
      "ConfigArgParse==0.13.0\n",
      "constantly==15.1.0\n",
      "contextlib2==0.6.0.post1\n",
      "cryptography==2.7\n",
      "cycler==0.10.0\n",
      "cymem==2.0.2\n",
      "Cython==0.29.13\n",
      "cytoolz==0.9.0.1\n",
      "dask==2.6.0\n",
      "decorator==4.4.1\n",
      "defusedxml==0.6.0\n",
      "dill==0.2.9\n",
      "distributed==2.6.0\n",
      "docopt==0.6.2\n",
      "docutils==0.15.2\n",
      "en-core-web-sm==2.2.0\n",
      "entrypoints==0.3\n",
      "et-xmlfile==1.0.1\n",
      "fakeredis==0.10.3\n",
      "fastcache==1.1.0\n",
      "fbmessenger==5.6.0\n",
      "filelock==3.0.10\n",
      "Flask==1.1.1\n",
      "Flask-Cors==3.0.8\n",
      "Flask-JWT-Simple==0.0.3\n",
      "fsspec==0.5.2\n",
      "future==0.17.1\n",
      "gast==0.2.2\n",
      "gevent==1.4.0\n",
      "glob2==0.7\n",
      "google-pasta==0.1.7\n",
      "graphviz==0.13\n",
      "greenlet==0.4.15\n",
      "grpcio==1.24.3\n",
      "h5py==2.10.0\n",
      "HeapDict==1.0.1\n",
      "html5lib==1.0.1\n",
      "humanfriendly==4.18\n",
      "hyperlink==19.0.0\n",
      "idna==2.8\n",
      "imageio==2.6.1\n",
      "imagesize==1.1.0\n",
      "importlib-metadata==0.23\n",
      "incremental==17.5.0\n",
      "ipykernel==5.1.3\n",
      "ipython==7.9.0\n",
      "ipython-genutils==0.2.0\n",
      "ipywidgets==7.5.1\n",
      "isort==4.3.21\n",
      "itsdangerous==1.1.0\n",
      "jdcal==1.4.1\n",
      "jedi==0.15.1\n",
      "Jinja2==2.10.3\n",
      "jmespath==0.9.4\n",
      "joblib==0.14.0\n",
      "json5==0.8.5\n",
      "jsonpickle==1.2\n",
      "jsonschema==2.6.0\n",
      "jupyter-client==5.3.3\n",
      "jupyter-console==6.0.0\n",
      "jupyter-core==4.5.0\n",
      "jupyterlab==1.1.4\n",
      "jupyterlab-server==1.0.6\n",
      "Keras==2.3.1\n",
      "Keras-Applications==1.0.8\n",
      "Keras-Preprocessing==1.1.0\n",
      "keyring==19.2.0\n",
      "kiwisolver==1.1.0\n",
      "klein==17.10.0\n",
      "lazy-object-proxy==1.4.3\n",
      "libarchive-c==2.9\n",
      "llvmlite==0.30.0\n",
      "locket==0.2.0\n",
      "lxml==4.4.1\n",
      "Markdown==3.1.1\n",
      "MarkupSafe==1.1.1\n",
      "matplotlib==2.2.2\n",
      "mattermostwrapper==2.1\n",
      "mccabe==0.6.1\n",
      "menuinst==1.4.16\n",
      "mistune==0.8.4\n",
      "mkl-fft==1.0.15\n",
      "mkl-random==1.1.0\n",
      "mkl-service==2.3.0\n",
      "mock==3.0.5\n",
      "more-itertools==7.2.0\n",
      "mpmath==1.1.0\n",
      "msgpack==0.5.6\n",
      "msgpack-numpy==0.4.3.2\n",
      "multipledispatch==0.6.0\n",
      "murmurhash==1.0.2\n",
      "navigator-updater==0.2.1\n",
      "nbconvert==5.6.1\n",
      "nbformat==4.4.0\n",
      "networkx==2.4\n",
      "nltk==3.4.4\n",
      "nose==1.3.7\n",
      "notebook==6.0.1\n",
      "numba==0.46.0\n",
      "numexpr==2.7.0\n",
      "numpy==1.17.3+mkl\n",
      "numpydoc==0.9.1\n",
      "olefile==0.46\n",
      "openpyxl==3.0.0\n",
      "opt-einsum==3.1.0\n",
      "packaging==18.0\n",
      "pandas==0.25.2\n",
      "pandoc==1.0.2\n",
      "pandocfilters==1.4.2\n",
      "parso==0.5.1\n",
      "partd==1.0.0\n",
      "path.py==12.0.1\n",
      "pathlib2==2.3.5\n",
      "patsy==0.5.1\n",
      "pep8==1.7.1\n",
      "pickleshare==0.7.5\n",
      "pika==0.12.0\n",
      "Pillow==6.2.1\n",
      "pkginfo==1.5.0.1\n",
      "plac==0.9.6\n",
      "pluggy==0.13.0\n",
      "ply==3.11\n",
      "preshed==2.0.1\n",
      "prometheus-client==0.7.1\n",
      "prompt-toolkit==2.0.10\n",
      "protobuf==3.10.0\n",
      "psutil==5.6.3\n",
      "py==1.8.0\n",
      "pycodestyle==2.5.0\n",
      "pycosat==0.6.3\n",
      "pycparser==2.19\n",
      "pycrypto==2.6.1\n",
      "pycurl==7.43.0.3\n",
      "pydot==1.4.1\n",
      "pyflakes==2.1.1\n",
      "Pygments==2.4.2\n",
      "PyHamcrest==1.9.0\n",
      "PyJWT==1.7.1\n",
      "pykwalify==1.7.0\n",
      "pylint==2.4.3\n",
      "pymongo==3.9.0\n",
      "pyodbc==4.0.27\n",
      "pyOpenSSL==19.0.0\n",
      "pyparsing==2.4.2\n",
      "PyQt5==5.12.3\n",
      "PyQt5-sip==4.19.18\n",
      "PyQtWebEngine==5.12.1\n",
      "pyreadline==2.1\n",
      "pyrsistent==0.15.4\n",
      "PySocks==1.7.1\n",
      "pytest==5.2.2\n",
      "pytest-arraydiff==0.3\n",
      "pytest-astropy==0.5.0\n",
      "pytest-doctestplus==0.4.0\n",
      "pytest-openfiles==0.4.0\n",
      "pytest-remotedata==0.3.1\n",
      "python-crfsuite==0.9.6\n",
      "python-dateutil==2.8.0\n",
      "python-engineio==3.10.0\n",
      "python-socketio==3.1.2\n",
      "python-telegram-bot==11.1.0\n",
      "pytz==2018.9\n",
      "PyWavelets==1.1.1\n",
      "pywin32==224\n",
      "pywin32-ctypes==0.2.0\n",
      "pywinpty==0.5.5\n",
      "PyYAML==5.1.2\n",
      "pyzmq==18.1.0\n",
      "QtAwesome==0.6.0\n",
      "qtconsole==4.5.5\n",
      "QtPy==1.9.0\n",
      "questionary==1.3.0\n",
      "rasa-core-sdk==0.14.0\n",
      "redis==2.10.6\n",
      "regex==2018.1.10\n",
      "requests==2.22.0\n",
      "requests-toolbelt==0.9.1\n",
      "rocketchat-API==0.6.35\n",
      "rope==0.14.0\n",
      "ruamel-yaml==0.15.71\n",
      "ruamel.yaml==0.15.100\n",
      "ruamel.yaml.clib==0.2.0\n",
      "s3transfer==0.2.1\n",
      "scikit-image==0.16.2\n",
      "scikit-learn==0.20.4\n",
      "scipy==1.3.1\n",
      "seaborn==0.9.0\n",
      "Send2Trash==1.5.0\n",
      "simplegeneric==0.8.1\n",
      "simplejson==3.16.0\n",
      "singledispatch==3.4.0.3\n",
      "sip==4.19.18\n",
      "six==1.12.0\n",
      "sklearn-crfsuite==0.3.6\n",
      "slackclient==1.3.2\n",
      "snowballstemmer==2.0.0\n",
      "sortedcollections==1.1.2\n",
      "sortedcontainers==2.1.0\n",
      "soupsieve==1.9.4\n",
      "spacy-lookups-data==0.2.0\n",
      "Sphinx==2.2.1\n",
      "sphinxcontrib-applehelp==1.0.1\n",
      "sphinxcontrib-devhelp==1.0.1\n",
      "sphinxcontrib-htmlhelp==1.0.2\n",
      "sphinxcontrib-jsmath==1.0.1\n",
      "sphinxcontrib-qthelp==1.0.2\n",
      "sphinxcontrib-serializinghtml==1.1.3\n",
      "sphinxcontrib-websupport==1.1.2\n",
      "spyder==3.3.6\n",
      "spyder-kernels==0.5.2\n",
      "SQLAlchemy==1.3.10\n",
      "srsly==0.1.0\n",
      "statsmodels==0.10.1\n",
      "sympy==1.4\n",
      "tables==3.6.0\n",
      "tabulate==0.8.5\n",
      "tblib==1.4.0\n",
      "tensorboard==1.13.1\n",
      "tensorflow==1.13.2\n",
      "tensorflow-estimator==1.13.0\n",
      "termcolor==1.1.0\n",
      "terminado==0.8.2\n",
      "terminaltables==3.1.0\n",
      "testpath==0.4.2\n",
      "thinc==6.12.1\n",
      "toolz==0.10.0\n",
      "tornado==6.0.3\n",
      "tqdm==4.11.2\n",
      "traitlets==4.3.3\n",
      "twilio==6.33.0\n",
      "Twisted==19.7.0\n",
      "typed-ast==1.4.0\n",
      "typing==3.7.4.1\n",
      "tzlocal==2.0.0\n",
      "ujson==1.35\n",
      "unicodecsv==0.14.1\n",
      "urllib3==1.25.6\n",
      "wasabi==0.3.0\n",
      "wcwidth==0.1.7\n",
      "webencodings==0.5.1\n",
      "webexteamssdk==1.2\n",
      "websocket-client==0.54.0\n",
      "Werkzeug==0.16.0\n",
      "widgetsnbextension==3.5.1\n",
      "win-inet-pton==1.1.0\n",
      "win-unicode-console==0.5\n",
      "wincertstore==0.2\n",
      "wrapt==1.10.11\n",
      "xlrd==1.2.0\n",
      "XlsxWriter==1.2.2\n",
      "xlwings==0.16.0\n",
      "xlwt==1.3.0\n",
      "xx-ent-wiki-sm==2.2.0\n",
      "zict==1.0.0\n",
      "zipp==0.6.0\n",
      "zope.interface==4.6.0\n",
      "Note: you may need to restart the kernel to use updated packages.\n"
     ]
    },
    {
     "name": "stderr",
     "output_type": "stream",
     "text": [
      "WARNING: Could not generate requirement for distribution -pacy 2.2.1 (c:\\users\\asus\\anaconda3\\lib\\site-packages): Parse error at \"'-pacy==2'\": Expected W:(abcd...)\n"
     ]
    }
   ],
   "source": [
    "pip freeze"
   ]
  },
  {
   "cell_type": "code",
   "execution_count": 3,
   "metadata": {},
   "outputs": [],
   "source": [
    "%matplotlib inline\n",
    "\n",
    "import logging, io, json, warnings\n",
    "logging.basicConfig(level=\"INFO\")\n",
    "warnings.filterwarnings('ignore')"
   ]
  },
  {
   "cell_type": "code",
   "execution_count": 5,
   "metadata": {},
   "outputs": [
    {
     "data": {
      "text/plain": [
       "'C:\\\\Users\\\\ASUS\\\\my-venv\\\\Scripts\\\\weatherbot\\\\rasabot\\\\cloned_repo\\\\12-5-19_ChatbotUsingRasa_AnujSaini\\\\MainProject'"
      ]
     },
     "execution_count": 5,
     "metadata": {},
     "output_type": "execute_result"
    }
   ],
   "source": [
    "pwd"
   ]
  },
  {
   "cell_type": "code",
   "execution_count": 6,
   "metadata": {},
   "outputs": [
    {
     "name": "stdout",
     "output_type": "stream",
     "text": [
      "Requirement already up-to-date: rasa_core in c:\\users\\asus\\anaconda3\\lib\\site-packages (0.14.5)\n",
      "Requirement already up-to-date: rasa_nlu[spacy] in c:\\users\\asus\\anaconda3\\lib\\site-packages (0.15.1)\n",
      "Requirement already satisfied, skipping upgrade: pymongo~=3.7 in c:\\users\\asus\\anaconda3\\lib\\site-packages (from rasa_core) (3.9.0)\n",
      "Requirement already satisfied, skipping upgrade: pydot~=1.4 in c:\\users\\asus\\anaconda3\\lib\\site-packages (from rasa_core) (1.4.1)\n",
      "Requirement already satisfied, skipping upgrade: flask~=1.0 in c:\\users\\asus\\anaconda3\\lib\\site-packages (from rasa_core) (1.1.1)\n",
      "Requirement already satisfied, skipping upgrade: flask-jwt-simple~=0.0.3 in c:\\users\\asus\\anaconda3\\lib\\site-packages (from rasa_core) (0.0.3)\n",
      "Requirement already satisfied, skipping upgrade: terminaltables~=3.1 in c:\\users\\asus\\anaconda3\\lib\\site-packages (from rasa_core) (3.1.0)\n",
      "Requirement already satisfied, skipping upgrade: packaging~=18.0 in c:\\users\\asus\\anaconda3\\lib\\site-packages (from rasa_core) (18.0)\n",
      "Requirement already satisfied, skipping upgrade: rasa-core-sdk~=0.14 in c:\\users\\asus\\anaconda3\\lib\\site-packages (from rasa_core) (0.14.0)\n",
      "Requirement already satisfied, skipping upgrade: jsonschema~=2.6 in c:\\users\\asus\\anaconda3\\lib\\site-packages (from rasa_core) (2.6.0)\n",
      "Requirement already satisfied, skipping upgrade: scipy~=1.2 in c:\\users\\asus\\anaconda3\\lib\\site-packages (from rasa_core) (1.3.1)\n",
      "Requirement already satisfied, skipping upgrade: pika~=0.12.0 in c:\\users\\asus\\anaconda3\\lib\\site-packages (from rasa_core) (0.12.0)\n",
      "Requirement already satisfied, skipping upgrade: questionary>=1.0.1 in c:\\users\\asus\\anaconda3\\lib\\site-packages (from rasa_core) (1.3.0)\n",
      "Requirement already satisfied, skipping upgrade: twilio~=6.0 in c:\\users\\asus\\anaconda3\\lib\\site-packages (from rasa_core) (6.33.0)\n",
      "Requirement already satisfied, skipping upgrade: redis~=2.0 in c:\\users\\asus\\anaconda3\\lib\\site-packages (from rasa_core) (2.10.6)\n",
      "Requirement already satisfied, skipping upgrade: requests~=2.20 in c:\\users\\asus\\anaconda3\\lib\\site-packages (from rasa_core) (2.22.0)\n",
      "Requirement already satisfied, skipping upgrade: networkx~=2.2 in c:\\users\\asus\\anaconda3\\lib\\site-packages (from rasa_core) (2.4)\n",
      "Requirement already satisfied, skipping upgrade: python-telegram-bot~=11.0 in c:\\users\\asus\\anaconda3\\lib\\site-packages (from rasa_core) (11.1.0)\n",
      "Requirement already satisfied, skipping upgrade: colorhash~=1.0 in c:\\users\\asus\\anaconda3\\lib\\site-packages (from rasa_core) (1.0.2)\n",
      "Requirement already satisfied, skipping upgrade: fbmessenger~=5.0 in c:\\users\\asus\\anaconda3\\lib\\site-packages (from rasa_core) (5.6.0)\n",
      "Requirement already satisfied, skipping upgrade: python-dateutil~=2.7 in c:\\users\\asus\\anaconda3\\lib\\site-packages (from rasa_core) (2.8.0)\n",
      "Requirement already satisfied, skipping upgrade: mattermostwrapper~=2.0 in c:\\users\\asus\\anaconda3\\lib\\site-packages (from rasa_core) (2.1)\n",
      "Requirement already satisfied, skipping upgrade: slackclient~=1.0 in c:\\users\\asus\\anaconda3\\lib\\site-packages (from rasa_core) (1.3.2)\n",
      "Requirement already satisfied, skipping upgrade: tensorflow~=1.13.0 in c:\\users\\asus\\anaconda3\\lib\\site-packages (from rasa_core) (1.13.2)\n",
      "Requirement already satisfied, skipping upgrade: tqdm~=4.0 in c:\\users\\asus\\anaconda3\\lib\\site-packages (from rasa_core) (4.11.2)\n",
      "Requirement already satisfied, skipping upgrade: gevent~=1.3 in c:\\users\\asus\\anaconda3\\lib\\site-packages (from rasa_core) (1.4.0)\n",
      "Requirement already satisfied, skipping upgrade: numpy~=1.16 in c:\\users\\asus\\anaconda3\\lib\\site-packages (from rasa_core) (1.17.3+mkl)\n",
      "Requirement already satisfied, skipping upgrade: typing~=3.0 in c:\\users\\asus\\anaconda3\\lib\\site-packages (from rasa_core) (3.7.4.1)\n",
      "Requirement already satisfied, skipping upgrade: apscheduler~=3.0 in c:\\users\\asus\\anaconda3\\lib\\site-packages (from rasa_core) (3.6.1)\n",
      "Requirement already satisfied, skipping upgrade: coloredlogs~=10.0 in c:\\users\\asus\\anaconda3\\lib\\site-packages (from rasa_core) (10.0)\n",
      "Requirement already satisfied, skipping upgrade: ruamel.yaml~=0.15.0 in c:\\users\\asus\\anaconda3\\lib\\site-packages (from rasa_core) (0.15.100)\n",
      "Requirement already satisfied, skipping upgrade: python-socketio~=3.0 in c:\\users\\asus\\anaconda3\\lib\\site-packages (from rasa_core) (3.1.2)\n",
      "Requirement already satisfied, skipping upgrade: scikit-learn~=0.20.0 in c:\\users\\asus\\anaconda3\\lib\\site-packages (from rasa_core) (0.20.4)\n",
      "Requirement already satisfied, skipping upgrade: webexteamssdk~=1.0 in c:\\users\\asus\\anaconda3\\lib\\site-packages (from rasa_core) (1.2)\n",
      "Requirement already satisfied, skipping upgrade: flask-cors~=3.0 in c:\\users\\asus\\anaconda3\\lib\\site-packages (from rasa_core) (3.0.8)\n",
      "Requirement already satisfied, skipping upgrade: pykwalify~=1.7.0 in c:\\users\\asus\\anaconda3\\lib\\site-packages (from rasa_core) (1.7.0)\n",
      "Requirement already satisfied, skipping upgrade: rocketchat-API~=0.6.0 in c:\\users\\asus\\anaconda3\\lib\\site-packages (from rasa_core) (0.6.35)\n",
      "Requirement already satisfied, skipping upgrade: jsonpickle~=1.0 in c:\\users\\asus\\anaconda3\\lib\\site-packages (from rasa_core) (1.2)\n",
      "Requirement already satisfied, skipping upgrade: colorclass~=2.2 in c:\\users\\asus\\anaconda3\\lib\\site-packages (from rasa_core) (2.2.0)\n",
      "Requirement already satisfied, skipping upgrade: pytz~=2018.9 in c:\\users\\asus\\anaconda3\\lib\\site-packages (from rasa_core) (2018.9)\n",
      "Requirement already satisfied, skipping upgrade: fakeredis~=0.10.0 in c:\\users\\asus\\anaconda3\\lib\\site-packages (from rasa_core) (0.10.3)\n",
      "Requirement already satisfied, skipping upgrade: simplejson~=3.13 in c:\\users\\asus\\anaconda3\\lib\\site-packages (from rasa_nlu[spacy]) (3.16.0)\n",
      "Requirement already satisfied, skipping upgrade: klein~=17.10 in c:\\users\\asus\\anaconda3\\lib\\site-packages (from rasa_nlu[spacy]) (17.10.0)\n",
      "Requirement already satisfied, skipping upgrade: future~=0.17.1 in c:\\users\\asus\\anaconda3\\lib\\site-packages (from rasa_nlu[spacy]) (0.17.1)\n",
      "Requirement already satisfied, skipping upgrade: matplotlib~=2.2 in c:\\users\\asus\\anaconda3\\lib\\site-packages (from rasa_nlu[spacy]) (2.2.2)\n",
      "Requirement already satisfied, skipping upgrade: cloudpickle~=0.6.1 in c:\\users\\asus\\anaconda3\\lib\\site-packages (from rasa_nlu[spacy]) (0.6.1)\n",
      "Requirement already satisfied, skipping upgrade: boto3~=1.9 in c:\\users\\asus\\anaconda3\\lib\\site-packages (from rasa_nlu[spacy]) (1.10.14)\n",
      "Requirement already satisfied, skipping upgrade: spacy<=2.0.18,>2.0; extra == \"spacy\" in c:\\users\\asus\\anaconda3\\lib\\site-packages (from rasa_nlu[spacy]) (2.0.18)\n",
      "Requirement already satisfied, skipping upgrade: sklearn-crfsuite~=0.3.6; extra == \"spacy\" in c:\\users\\asus\\anaconda3\\lib\\site-packages (from rasa_nlu[spacy]) (0.3.6)\n",
      "Requirement already satisfied, skipping upgrade: pyparsing>=2.1.4 in c:\\users\\asus\\anaconda3\\lib\\site-packages (from pydot~=1.4->rasa_core) (2.4.2)\n",
      "Requirement already satisfied, skipping upgrade: itsdangerous>=0.24 in c:\\users\\asus\\anaconda3\\lib\\site-packages (from flask~=1.0->rasa_core) (1.1.0)\n",
      "Requirement already satisfied, skipping upgrade: Jinja2>=2.10.1 in c:\\users\\asus\\anaconda3\\lib\\site-packages (from flask~=1.0->rasa_core) (2.10.3)\n",
      "Requirement already satisfied, skipping upgrade: click>=5.1 in c:\\users\\asus\\anaconda3\\lib\\site-packages (from flask~=1.0->rasa_core) (7.0)\n",
      "Requirement already satisfied, skipping upgrade: Werkzeug>=0.15 in c:\\users\\asus\\anaconda3\\lib\\site-packages (from flask~=1.0->rasa_core) (0.16.0)\n",
      "Requirement already satisfied, skipping upgrade: PyJWT in c:\\users\\asus\\anaconda3\\lib\\site-packages (from flask-jwt-simple~=0.0.3->rasa_core) (1.7.1)\n",
      "Requirement already satisfied, skipping upgrade: six in c:\\users\\asus\\anaconda3\\lib\\site-packages (from packaging~=18.0->rasa_core) (1.12.0)\n",
      "Requirement already satisfied, skipping upgrade: ConfigArgParse~=0.13.0 in c:\\users\\asus\\anaconda3\\lib\\site-packages (from rasa-core-sdk~=0.14->rasa_core) (0.13.0)\n",
      "Requirement already satisfied, skipping upgrade: prompt-toolkit~=2.0 in c:\\users\\asus\\anaconda3\\lib\\site-packages (from questionary>=1.0.1->rasa_core) (2.0.10)\n",
      "Requirement already satisfied, skipping upgrade: idna<2.9,>=2.5 in c:\\users\\asus\\anaconda3\\lib\\site-packages (from requests~=2.20->rasa_core) (2.8)\n",
      "Requirement already satisfied, skipping upgrade: chardet<3.1.0,>=3.0.2 in c:\\users\\asus\\anaconda3\\lib\\site-packages (from requests~=2.20->rasa_core) (3.0.4)\n",
      "Requirement already satisfied, skipping upgrade: urllib3!=1.25.0,!=1.25.1,<1.26,>=1.21.1 in c:\\users\\asus\\anaconda3\\lib\\site-packages (from requests~=2.20->rasa_core) (1.25.6)\n",
      "Requirement already satisfied, skipping upgrade: certifi>=2017.4.17 in c:\\users\\asus\\anaconda3\\lib\\site-packages (from requests~=2.20->rasa_core) (2019.6.16)\n",
      "Requirement already satisfied, skipping upgrade: decorator>=4.3.0 in c:\\users\\asus\\anaconda3\\lib\\site-packages (from networkx~=2.2->rasa_core) (4.4.1)\n",
      "Requirement already satisfied, skipping upgrade: cryptography in c:\\users\\asus\\anaconda3\\lib\\site-packages (from python-telegram-bot~=11.0->rasa_core) (2.7)\n",
      "Requirement already satisfied, skipping upgrade: websocket-client<0.55.0,>=0.35 in c:\\users\\asus\\anaconda3\\lib\\site-packages (from slackclient~=1.0->rasa_core) (0.54.0)\n",
      "Requirement already satisfied, skipping upgrade: keras-preprocessing>=1.0.5 in c:\\users\\asus\\anaconda3\\lib\\site-packages (from tensorflow~=1.13.0->rasa_core) (1.1.0)\n",
      "Requirement already satisfied, skipping upgrade: keras-applications>=1.0.6 in c:\\users\\asus\\anaconda3\\lib\\site-packages (from tensorflow~=1.13.0->rasa_core) (1.0.8)\n",
      "Requirement already satisfied, skipping upgrade: gast>=0.2.0 in c:\\users\\asus\\anaconda3\\lib\\site-packages (from tensorflow~=1.13.0->rasa_core) (0.2.2)\n",
      "Requirement already satisfied, skipping upgrade: absl-py>=0.1.6 in c:\\users\\asus\\anaconda3\\lib\\site-packages (from tensorflow~=1.13.0->rasa_core) (0.8.1)\n",
      "Requirement already satisfied, skipping upgrade: tensorboard<1.14.0,>=1.13.0 in c:\\users\\asus\\anaconda3\\lib\\site-packages (from tensorflow~=1.13.0->rasa_core) (1.13.1)\n",
      "Requirement already satisfied, skipping upgrade: tensorflow-estimator<1.14.0rc0,>=1.13.0 in c:\\users\\asus\\anaconda3\\lib\\site-packages (from tensorflow~=1.13.0->rasa_core) (1.13.0)\n",
      "Requirement already satisfied, skipping upgrade: wheel>=0.26 in c:\\users\\asus\\anaconda3\\lib\\site-packages (from tensorflow~=1.13.0->rasa_core) (0.33.6)\n",
      "Requirement already satisfied, skipping upgrade: grpcio>=1.8.6 in c:\\users\\asus\\anaconda3\\lib\\site-packages (from tensorflow~=1.13.0->rasa_core) (1.24.3)\n",
      "Requirement already satisfied, skipping upgrade: protobuf>=3.6.1 in c:\\users\\asus\\anaconda3\\lib\\site-packages (from tensorflow~=1.13.0->rasa_core) (3.10.0)\n",
      "Requirement already satisfied, skipping upgrade: astor>=0.6.0 in c:\\users\\asus\\anaconda3\\lib\\site-packages (from tensorflow~=1.13.0->rasa_core) (0.8.0)\n",
      "Requirement already satisfied, skipping upgrade: termcolor>=1.1.0 in c:\\users\\asus\\anaconda3\\lib\\site-packages (from tensorflow~=1.13.0->rasa_core) (1.1.0)\n",
      "Requirement already satisfied, skipping upgrade: greenlet>=0.4.14; platform_python_implementation == \"CPython\" in c:\\users\\asus\\anaconda3\\lib\\site-packages (from gevent~=1.3->rasa_core) (0.4.15)\n",
      "Requirement already satisfied, skipping upgrade: cffi>=1.11.5; sys_platform == \"win32\" and platform_python_implementation == \"CPython\" in c:\\users\\asus\\anaconda3\\lib\\site-packages (from gevent~=1.3->rasa_core) (1.13.1)\n",
      "Requirement already satisfied, skipping upgrade: setuptools>=0.7 in c:\\users\\asus\\anaconda3\\lib\\site-packages (from apscheduler~=3.0->rasa_core) (41.4.0)\n",
      "Requirement already satisfied, skipping upgrade: tzlocal>=1.2 in c:\\users\\asus\\anaconda3\\lib\\site-packages (from apscheduler~=3.0->rasa_core) (2.0.0)\n",
      "Requirement already satisfied, skipping upgrade: humanfriendly>=4.7 in c:\\users\\asus\\anaconda3\\lib\\site-packages (from coloredlogs~=10.0->rasa_core) (4.18)\n",
      "Requirement already satisfied, skipping upgrade: colorama; sys_platform == \"win32\" in c:\\users\\asus\\anaconda3\\lib\\site-packages (from coloredlogs~=10.0->rasa_core) (0.4.1)\n",
      "Requirement already satisfied, skipping upgrade: python-engineio>=3.2.0 in c:\\users\\asus\\anaconda3\\lib\\site-packages (from python-socketio~=3.0->rasa_core) (3.10.0)\n",
      "Requirement already satisfied, skipping upgrade: requests-toolbelt in c:\\users\\asus\\anaconda3\\lib\\site-packages (from webexteamssdk~=1.0->rasa_core) (0.9.1)\n",
      "Requirement already satisfied, skipping upgrade: PyYAML>=3.11 in c:\\users\\asus\\anaconda3\\lib\\site-packages (from pykwalify~=1.7.0->rasa_core) (5.1.2)\n",
      "Requirement already satisfied, skipping upgrade: docopt>=0.6.2 in c:\\users\\asus\\anaconda3\\lib\\site-packages (from pykwalify~=1.7.0->rasa_core) (0.6.2)\n",
      "Requirement already satisfied, skipping upgrade: Twisted>=15.5 in c:\\users\\asus\\anaconda3\\lib\\site-packages (from klein~=17.10->rasa_nlu[spacy]) (19.7.0)\n",
      "Requirement already satisfied, skipping upgrade: incremental in c:\\users\\asus\\anaconda3\\lib\\site-packages (from klein~=17.10->rasa_nlu[spacy]) (17.5.0)\n",
      "Requirement already satisfied, skipping upgrade: kiwisolver>=1.0.1 in c:\\users\\asus\\anaconda3\\lib\\site-packages (from matplotlib~=2.2->rasa_nlu[spacy]) (1.1.0)\n",
      "Requirement already satisfied, skipping upgrade: cycler>=0.10 in c:\\users\\asus\\anaconda3\\lib\\site-packages (from matplotlib~=2.2->rasa_nlu[spacy]) (0.10.0)\n",
      "Requirement already satisfied, skipping upgrade: jmespath<1.0.0,>=0.7.1 in c:\\users\\asus\\anaconda3\\lib\\site-packages (from boto3~=1.9->rasa_nlu[spacy]) (0.9.4)\n",
      "Requirement already satisfied, skipping upgrade: s3transfer<0.3.0,>=0.2.0 in c:\\users\\asus\\anaconda3\\lib\\site-packages (from boto3~=1.9->rasa_nlu[spacy]) (0.2.1)\n",
      "Requirement already satisfied, skipping upgrade: botocore<1.14.0,>=1.13.14 in c:\\users\\asus\\anaconda3\\lib\\site-packages (from boto3~=1.9->rasa_nlu[spacy]) (1.13.14)\n",
      "Requirement already satisfied, skipping upgrade: regex==2018.01.10 in c:\\users\\asus\\anaconda3\\lib\\site-packages (from spacy<=2.0.18,>2.0; extra == \"spacy\"->rasa_nlu[spacy]) (2018.1.10)\n",
      "Requirement already satisfied, skipping upgrade: murmurhash<1.1.0,>=0.28.0 in c:\\users\\asus\\anaconda3\\lib\\site-packages (from spacy<=2.0.18,>2.0; extra == \"spacy\"->rasa_nlu[spacy]) (1.0.2)\n",
      "Requirement already satisfied, skipping upgrade: cymem<2.1.0,>=2.0.2 in c:\\users\\asus\\anaconda3\\lib\\site-packages (from spacy<=2.0.18,>2.0; extra == \"spacy\"->rasa_nlu[spacy]) (2.0.2)\n",
      "Requirement already satisfied, skipping upgrade: plac<1.0.0,>=0.9.6 in c:\\users\\asus\\anaconda3\\lib\\site-packages (from spacy<=2.0.18,>2.0; extra == \"spacy\"->rasa_nlu[spacy]) (0.9.6)\n",
      "Requirement already satisfied, skipping upgrade: preshed<2.1.0,>=2.0.1 in c:\\users\\asus\\anaconda3\\lib\\site-packages (from spacy<=2.0.18,>2.0; extra == \"spacy\"->rasa_nlu[spacy]) (2.0.1)\n",
      "Requirement already satisfied, skipping upgrade: dill<0.3,>=0.2 in c:\\users\\asus\\anaconda3\\lib\\site-packages (from spacy<=2.0.18,>2.0; extra == \"spacy\"->rasa_nlu[spacy]) (0.2.9)\n",
      "Requirement already satisfied, skipping upgrade: ujson>=1.35 in c:\\users\\asus\\anaconda3\\lib\\site-packages (from spacy<=2.0.18,>2.0; extra == \"spacy\"->rasa_nlu[spacy]) (1.35)\n",
      "Requirement already satisfied, skipping upgrade: thinc<6.13.0,>=6.12.1 in c:\\users\\asus\\anaconda3\\lib\\site-packages (from spacy<=2.0.18,>2.0; extra == \"spacy\"->rasa_nlu[spacy]) (6.12.1)\n",
      "Requirement already satisfied, skipping upgrade: python-crfsuite>=0.8.3 in c:\\users\\asus\\anaconda3\\lib\\site-packages (from sklearn-crfsuite~=0.3.6; extra == \"spacy\"->rasa_nlu[spacy]) (0.9.6)\n",
      "Requirement already satisfied, skipping upgrade: tabulate in c:\\users\\asus\\anaconda3\\lib\\site-packages (from sklearn-crfsuite~=0.3.6; extra == \"spacy\"->rasa_nlu[spacy]) (0.8.5)\n",
      "Requirement already satisfied, skipping upgrade: MarkupSafe>=0.23 in c:\\users\\asus\\anaconda3\\lib\\site-packages (from Jinja2>=2.10.1->flask~=1.0->rasa_core) (1.1.1)\n",
      "Requirement already satisfied, skipping upgrade: wcwidth in c:\\users\\asus\\anaconda3\\lib\\site-packages (from prompt-toolkit~=2.0->questionary>=1.0.1->rasa_core) (0.1.7)\n",
      "Requirement already satisfied, skipping upgrade: asn1crypto>=0.21.0 in c:\\users\\asus\\anaconda3\\lib\\site-packages (from cryptography->python-telegram-bot~=11.0->rasa_core) (1.2.0)\n",
      "Requirement already satisfied, skipping upgrade: h5py in c:\\users\\asus\\anaconda3\\lib\\site-packages (from keras-applications>=1.0.6->tensorflow~=1.13.0->rasa_core) (2.10.0)\n",
      "Requirement already satisfied, skipping upgrade: markdown>=2.6.8 in c:\\users\\asus\\anaconda3\\lib\\site-packages (from tensorboard<1.14.0,>=1.13.0->tensorflow~=1.13.0->rasa_core) (3.1.1)\n",
      "Requirement already satisfied, skipping upgrade: mock>=2.0.0 in c:\\users\\asus\\anaconda3\\lib\\site-packages (from tensorflow-estimator<1.14.0rc0,>=1.13.0->tensorflow~=1.13.0->rasa_core) (3.0.5)\n",
      "Requirement already satisfied, skipping upgrade: pycparser in c:\\users\\asus\\anaconda3\\lib\\site-packages (from cffi>=1.11.5; sys_platform == \"win32\" and platform_python_implementation == \"CPython\"->gevent~=1.3->rasa_core) (2.19)\n",
      "Requirement already satisfied, skipping upgrade: pyreadline; sys_platform == \"win32\" in c:\\users\\asus\\anaconda3\\lib\\site-packages (from humanfriendly>=4.7->coloredlogs~=10.0->rasa_core) (2.1)\n",
      "Requirement already satisfied, skipping upgrade: Automat>=0.3.0 in c:\\users\\asus\\anaconda3\\lib\\site-packages (from Twisted>=15.5->klein~=17.10->rasa_nlu[spacy]) (0.8.0)\n",
      "Requirement already satisfied, skipping upgrade: zope.interface>=4.4.2 in c:\\users\\asus\\anaconda3\\lib\\site-packages (from Twisted>=15.5->klein~=17.10->rasa_nlu[spacy]) (4.6.0)\n",
      "Requirement already satisfied, skipping upgrade: attrs>=17.4.0 in c:\\users\\asus\\anaconda3\\lib\\site-packages (from Twisted>=15.5->klein~=17.10->rasa_nlu[spacy]) (19.3.0)\n",
      "Requirement already satisfied, skipping upgrade: constantly>=15.1 in c:\\users\\asus\\anaconda3\\lib\\site-packages (from Twisted>=15.5->klein~=17.10->rasa_nlu[spacy]) (15.1.0)\n",
      "Requirement already satisfied, skipping upgrade: hyperlink>=17.1.1 in c:\\users\\asus\\anaconda3\\lib\\site-packages (from Twisted>=15.5->klein~=17.10->rasa_nlu[spacy]) (19.0.0)\n",
      "Requirement already satisfied, skipping upgrade: PyHamcrest>=1.9.0 in c:\\users\\asus\\anaconda3\\lib\\site-packages (from Twisted>=15.5->klein~=17.10->rasa_nlu[spacy]) (1.9.0)\n",
      "Requirement already satisfied, skipping upgrade: docutils<0.16,>=0.10 in c:\\users\\asus\\anaconda3\\lib\\site-packages (from botocore<1.14.0,>=1.13.14->boto3~=1.9->rasa_nlu[spacy]) (0.15.2)\n",
      "Requirement already satisfied, skipping upgrade: wrapt<1.11.0,>=1.10.0 in c:\\users\\asus\\anaconda3\\lib\\site-packages (from thinc<6.13.0,>=6.12.1->spacy<=2.0.18,>2.0; extra == \"spacy\"->rasa_nlu[spacy]) (1.10.11)\n",
      "Requirement already satisfied, skipping upgrade: msgpack<0.6.0,>=0.5.6 in c:\\users\\asus\\anaconda3\\lib\\site-packages (from thinc<6.13.0,>=6.12.1->spacy<=2.0.18,>2.0; extra == \"spacy\"->rasa_nlu[spacy]) (0.5.6)\n",
      "Requirement already satisfied, skipping upgrade: cytoolz<0.10,>=0.9.0 in c:\\users\\asus\\anaconda3\\lib\\site-packages (from thinc<6.13.0,>=6.12.1->spacy<=2.0.18,>2.0; extra == \"spacy\"->rasa_nlu[spacy]) (0.9.0.1)\n",
      "Requirement already satisfied, skipping upgrade: msgpack-numpy<0.4.4 in c:\\users\\asus\\anaconda3\\lib\\site-packages (from thinc<6.13.0,>=6.12.1->spacy<=2.0.18,>2.0; extra == \"spacy\"->rasa_nlu[spacy]) (0.4.3.2)\n",
      "Requirement already satisfied, skipping upgrade: toolz>=0.8.0 in c:\\users\\asus\\anaconda3\\lib\\site-packages (from cytoolz<0.10,>=0.9.0->thinc<6.13.0,>=6.12.1->spacy<=2.0.18,>2.0; extra == \"spacy\"->rasa_nlu[spacy]) (0.10.0)\n"
     ]
    }
   ],
   "source": [
    "import sys\n",
    "python = sys.executable\n",
    "\n",
    "# In your environment run:\n",
    "!{python} -m pip install -U rasa_core rasa_nlu[spacy];\n"
   ]
  },
  {
   "cell_type": "code",
   "execution_count": 6,
   "metadata": {},
   "outputs": [
    {
     "name": "stdout",
     "output_type": "stream",
     "text": [
      "Collecting en_core_web_md==2.0.0\n",
      "  Downloading https://github.com/explosion/spacy-models/releases/download/en_core_web_md-2.0.0/en_core_web_md-2.0.0.tar.gz (120.8MB)\n",
      "Building wheels for collected packages: en-core-web-md\n",
      "  Building wheel for en-core-web-md (setup.py): started\n",
      "  Building wheel for en-core-web-md (setup.py): finished with status 'done'\n",
      "  Created wheel for en-core-web-md: filename=en_core_web_md-2.0.0-cp37-none-any.whl size=122523227 sha256=451552d877bfe034e05a7f205f4c7b1c214a8b2d1131bf1538e4daad56020729\n",
      "  Stored in directory: C:\\Users\\ASUS\\AppData\\Local\\Temp\\pip-ephem-wheel-cache-6hqerax3\\wheels\\db\\5d\\d0\\ccdad6b01f9695b4a33793158530b3228223ee31463441663d\n",
      "Successfully built en-core-web-md\n",
      "Installing collected packages: en-core-web-md\n",
      "Successfully installed en-core-web-md-2.0.0\n",
      "\n",
      "    Linking successful\n",
      "    C:\\Users\\ASUS\\Anaconda3\\lib\\site-packages\\en_core_web_md -->\n",
      "    C:\\Users\\ASUS\\Anaconda3\\lib\\site-packages\\spacy\\data\\en_core_web_md\n",
      "\n",
      "    You can now load the model via spacy.load('en_core_web_md')\n",
      "\n"
     ]
    },
    {
     "name": "stderr",
     "output_type": "stream",
     "text": [
      "You do not have sufficient privilege to perform this operation.\n"
     ]
    }
   ],
   "source": [
    "!{python} -m spacy download en_core_web_md"
   ]
  },
  {
   "cell_type": "code",
   "execution_count": 14,
   "metadata": {},
   "outputs": [],
   "source": [
    "import rasa_nlu\n",
    "import rasa_core\n",
    "import spacy"
   ]
  },
  {
   "cell_type": "code",
   "execution_count": 12,
   "metadata": {},
   "outputs": [
    {
     "name": "stdout",
     "output_type": "stream",
     "text": [
      "0.14.5\n"
     ]
    }
   ],
   "source": [
    "print (rasa_core.__version__)"
   ]
  },
  {
   "cell_type": "code",
   "execution_count": 13,
   "metadata": {},
   "outputs": [],
   "source": [
    "import os.path as p\n",
    "import spacy"
   ]
  },
  {
   "cell_type": "code",
   "execution_count": 15,
   "metadata": {},
   "outputs": [
    {
     "name": "stdout",
     "output_type": "stream",
     "text": [
      "Requirement already satisfied: en_core_web_sm==2.0.0 from https://github.com/explosion/spacy-models/releases/download/en_core_web_sm-2.0.0/en_core_web_sm-2.0.0.tar.gz#egg=en_core_web_sm==2.0.0 in c:\\users\\asus\\anaconda3\\lib\\site-packages (2.0.0)\n",
      "\n",
      "    Linking successful\n",
      "    C:\\Users\\ASUS\\Anaconda3\\lib\\site-packages\\en_core_web_sm -->\n",
      "    C:\\Users\\ASUS\\Anaconda3\\lib\\site-packages\\spacy\\data\\en_core_web_sm\n",
      "\n",
      "    You can now load the model via spacy.load('en_core_web_sm')\n",
      "\n"
     ]
    },
    {
     "name": "stderr",
     "output_type": "stream",
     "text": [
      "You do not have sufficient privilege to perform this operation.\n"
     ]
    }
   ],
   "source": [
    "!{python} -m spacy download en_core_web_sm"
   ]
  },
  {
   "cell_type": "code",
   "execution_count": 16,
   "metadata": {},
   "outputs": [
    {
     "data": {
      "text/plain": [
       "<spacy.lang.en.English at 0x18be74aef28>"
      ]
     },
     "execution_count": 16,
     "metadata": {},
     "output_type": "execute_result"
    }
   ],
   "source": [
    "spacy.load('en_core_web_sm')"
   ]
  },
  {
   "cell_type": "code",
   "execution_count": 17,
   "metadata": {},
   "outputs": [
    {
     "name": "stderr",
     "output_type": "stream",
     "text": [
      "INFO:rasa_nlu.training_data.loading:Training data format of nlu.md is md\n",
      "INFO:rasa_nlu.training_data.training_data:Training data stats: \n",
      "\t- intent examples: 748 (6 distinct intents)\n",
      "\t- Found intents: 'request_info', 'affirm', 'inform', 'thankyou', 'greet', 'deny'\n",
      "\t- entity examples: 641 (5 distinct entities)\n",
      "\t- found entities: 'price', 'info', 'location', 'people', 'cuisine'\n",
      "\n",
      "INFO:rasa_nlu.utils.spacy_utils:Trying to load spacy model with name 'en_core_web_sm'\n",
      "INFO:rasa_nlu.components:Added 'SpacyNLP' to component cache. Key 'SpacyNLP-en_core_web_sm'.\n",
      "INFO:rasa_nlu.model:Starting to train component SpacyNLP\n",
      "INFO:rasa_nlu.model:Finished training component.\n",
      "INFO:rasa_nlu.model:Starting to train component SpacyTokenizer\n",
      "INFO:rasa_nlu.model:Finished training component.\n",
      "INFO:rasa_nlu.model:Starting to train component SpacyFeaturizer\n",
      "INFO:rasa_nlu.model:Finished training component.\n",
      "INFO:rasa_nlu.model:Starting to train component RegexFeaturizer\n",
      "INFO:rasa_nlu.model:Finished training component.\n",
      "INFO:rasa_nlu.model:Starting to train component CRFEntityExtractor\n",
      "INFO:rasa_nlu.model:Finished training component.\n",
      "INFO:rasa_nlu.model:Starting to train component EntitySynonymMapper\n",
      "INFO:rasa_nlu.model:Finished training component.\n",
      "INFO:rasa_nlu.model:Starting to train component SklearnIntentClassifier\n"
     ]
    },
    {
     "name": "stdout",
     "output_type": "stream",
     "text": [
      "Fitting 2 folds for each of 6 candidates, totalling 12 fits\n"
     ]
    },
    {
     "name": "stderr",
     "output_type": "stream",
     "text": [
      "[Parallel(n_jobs=1)]: Using backend SequentialBackend with 1 concurrent workers.\n",
      "[Parallel(n_jobs=1)]: Done  12 out of  12 | elapsed:    1.8s finished\n",
      "INFO:rasa_nlu.model:Finished training component.\n",
      "INFO:rasa_nlu.model:Successfully saved model into 'C:\\Users\\ASUS\\my-venv\\Scripts\\weatherbot\\rasabot\\cloned_repo\\12-5-19_ChatbotUsingRasa_AnujSaini\\MainProject\\models\\nlu\\default\\current'\n"
     ]
    }
   ],
   "source": [
    "from rasa_nlu.training_data import load_data\n",
    "from rasa_nlu.config import RasaNLUModelConfig\n",
    "from rasa_nlu.model import Trainer\n",
    "from rasa_nlu import config\n",
    "\n",
    "# loading the nlu training samples\n",
    "training_data = load_data(\"nlu.md\")\n",
    "\n",
    "# trainer to educate our pipeline\n",
    "trainer = Trainer(config.load(\"policy_config.yml\"))\n",
    "\n",
    "# train the model!\n",
    "interpreter = trainer.train(training_data)\n",
    "\n",
    "# store it for future use\n",
    "model_directory = trainer.persist(\"./models/nlu\", fixed_model_name=\"current\")\n",
    "\n"
   ]
  },
  {
   "cell_type": "code",
   "execution_count": 18,
   "metadata": {},
   "outputs": [
    {
     "name": "stdout",
     "output_type": "stream",
     "text": [
      "{\n",
      "  \"intent\": {\n",
      "    \"name\": \"inform\",\n",
      "    \"confidence\": 0.9711205616596642\n",
      "  },\n",
      "  \"entities\": [\n",
      "    {\n",
      "      \"start\": 10,\n",
      "      \"end\": 15,\n",
      "      \"value\": \"lo\",\n",
      "      \"entity\": \"price\",\n",
      "      \"confidence\": 0.6303178086037805,\n",
      "      \"extractor\": \"CRFEntityExtractor\",\n",
      "      \"processors\": [\n",
      "        \"EntitySynonymMapper\"\n",
      "      ]\n",
      "    },\n",
      "    {\n",
      "      \"start\": 16,\n",
      "      \"end\": 23,\n",
      "      \"value\": \"italian\",\n",
      "      \"entity\": \"cuisine\",\n",
      "      \"confidence\": 0.9465350326614231,\n",
      "      \"extractor\": \"CRFEntityExtractor\"\n",
      "    }\n",
      "  ],\n",
      "  \"intent_ranking\": [\n",
      "    {\n",
      "      \"name\": \"inform\",\n",
      "      \"confidence\": 0.9711205616596642\n",
      "    },\n",
      "    {\n",
      "      \"name\": \"affirm\",\n",
      "      \"confidence\": 0.02051914946281175\n",
      "    },\n",
      "    {\n",
      "      \"name\": \"thankyou\",\n",
      "      \"confidence\": 0.0051197351571158\n",
      "    },\n",
      "    {\n",
      "      \"name\": \"greet\",\n",
      "      \"confidence\": 0.0016122911030163594\n",
      "    },\n",
      "    {\n",
      "      \"name\": \"request_info\",\n",
      "      \"confidence\": 0.0009217309556008001\n",
      "    },\n",
      "    {\n",
      "      \"name\": \"deny\",\n",
      "      \"confidence\": 0.0007065316617908111\n",
      "    }\n",
      "  ],\n",
      "  \"text\": \"find some cheap italian restaurant for me in L.A. city\"\n",
      "}\n"
     ]
    }
   ],
   "source": [
    "# A helper function for prettier output\n",
    "import json\n",
    "def pprint(o):   \n",
    "    print(json.dumps(o, indent=2))\n",
    "    \n",
    "pprint(interpreter.parse(\"find some cheap italian restaurant for me in L.A. city\"))"
   ]
  },
  {
   "cell_type": "code",
   "execution_count": 19,
   "metadata": {},
   "outputs": [
    {
     "data": {
      "text/plain": [
       "'C:\\\\Users\\\\ASUS\\\\my-venv\\\\Scripts\\\\weatherbot\\\\rasabot\\\\cloned_repo\\\\12-5-19_ChatbotUsingRasa_AnujSaini\\\\MainProject'"
      ]
     },
     "execution_count": 19,
     "metadata": {},
     "output_type": "execute_result"
    }
   ],
   "source": [
    "pwd"
   ]
  },
  {
   "cell_type": "code",
   "execution_count": 20,
   "metadata": {},
   "outputs": [
    {
     "ename": "ImportError",
     "evalue": "cannot import name 'run_evaluation' from 'rasa_nlu.evaluate' (C:\\Users\\ASUS\\Anaconda3\\lib\\site-packages\\rasa_nlu\\evaluate.py)",
     "output_type": "error",
     "traceback": [
      "\u001b[1;31m---------------------------------------------------------------------------\u001b[0m",
      "\u001b[1;31mImportError\u001b[0m                               Traceback (most recent call last)",
      "\u001b[1;32m<ipython-input-20-a08a9d67c1c7>\u001b[0m in \u001b[0;36m<module>\u001b[1;34m\u001b[0m\n\u001b[1;32m----> 1\u001b[1;33m \u001b[1;32mfrom\u001b[0m \u001b[0mrasa_nlu\u001b[0m\u001b[1;33m.\u001b[0m\u001b[0mevaluate\u001b[0m \u001b[1;32mimport\u001b[0m \u001b[0mrun_evaluation\u001b[0m\u001b[1;33m\u001b[0m\u001b[1;33m\u001b[0m\u001b[0m\n\u001b[0m\u001b[0;32m      2\u001b[0m \u001b[1;33m\u001b[0m\u001b[0m\n\u001b[0;32m      3\u001b[0m \u001b[0mrun_evaluation\u001b[0m\u001b[1;33m(\u001b[0m\u001b[1;34m\"nlu.md\"\u001b[0m\u001b[1;33m,\u001b[0m \u001b[0mmodel_directory\u001b[0m\u001b[1;33m)\u001b[0m\u001b[1;33m\u001b[0m\u001b[1;33m\u001b[0m\u001b[0m\n\u001b[0;32m      4\u001b[0m \u001b[1;33m\u001b[0m\u001b[0m\n",
      "\u001b[1;31mImportError\u001b[0m: cannot import name 'run_evaluation' from 'rasa_nlu.evaluate' (C:\\Users\\ASUS\\Anaconda3\\lib\\site-packages\\rasa_nlu\\evaluate.py)"
     ]
    }
   ],
   "source": [
    "\n",
    "\n",
    "from rasa_nlu.evaluate import run_evaluation\n",
    "\n",
    "run_evaluation(\"nlu.md\", model_directory)\n",
    "\n"
   ]
  },
  {
   "cell_type": "code",
   "execution_count": null,
   "metadata": {},
   "outputs": [],
   "source": [
    "!apt-get -qq install -y graphviz libgraphviz-dev pkg-config;\n",
    "!breq install graphviz\n",
    "\n",
    "!{python} -m pip install pygraphviz;\n"
   ]
  },
  {
   "cell_type": "code",
   "execution_count": null,
   "metadata": {},
   "outputs": [],
   "source": [
    "from IPython.display import Image\n",
    "from rasa_core.agent import Agent\n",
    "\n",
    "agent = Agent('domain.yml')\n",
    "agent.visualize(\"stories.md\", \"story_graph.jpeg\", max_history=2)\n",
    "Image(filename=\"story_graph.jpeg\")"
   ]
  },
  {
   "cell_type": "code",
   "execution_count": null,
   "metadata": {},
   "outputs": [],
   "source": [
    "!python -m rasa_core.train -d domain.yml -s stories.md -o models/dialogue\n",
    "\n",
    "print(\"Finished training!\")"
   ]
  },
  {
   "cell_type": "code",
   "execution_count": null,
   "metadata": {},
   "outputs": [],
   "source": [
    "import IPython\n",
    "from IPython.display import clear_output, HTML, display\n",
    "from rasa_core.agent import Agent\n",
    "from rasa_core.interpreter import RasaNLUInterpreter\n",
    "import time\n",
    "\n",
    "interpreter = RasaNLUInterpreter('models/nlu/default/current')\n",
    "messages = [\"Hi! you can chat in this window. Type 'stop' to end the conversation.\"]\n",
    "agent = Agent.load('models/dialogue', interpreter=interpreter)\n",
    "\n",
    "def chatlogs_html(messages):\n",
    "    messages_html = \"\".join([\"<p>{}</p>\".format(m) for m in messages])\n",
    "    chatbot_html = \"\"\"<div class=\"chat-window\" {}</div>\"\"\".format(messages_html)\n",
    "    return chatbot_html\n",
    "\n",
    "\n",
    "while True:\n",
    "    clear_output()\n",
    "    display(HTML(chatlogs_html(messages)))\n",
    "    time.sleep(0.3)\n",
    "    a = input()\n",
    "    messages.append(a)\n",
    "    if a == 'stop':\n",
    "        break\n",
    "    responses = agent.handle_message(a)\n",
    "    for r in responses:\n",
    "        messages.append(r.get(\"text\"))"
   ]
  },
  {
   "cell_type": "code",
   "execution_count": null,
   "metadata": {},
   "outputs": [],
   "source": [
    "!python -m rasa_core.train interactive -o models/dialogue -d domain.yml -c policy_config.yml -s stories.md --nlu models/nlu/default/current --endpoints endpoints.yml"
   ]
  }
 ],
 "metadata": {
  "kernelspec": {
   "display_name": "Python 3",
   "language": "python",
   "name": "python3"
  },
  "language_info": {
   "codemirror_mode": {
    "name": "ipython",
    "version": 3
   },
   "file_extension": ".py",
   "mimetype": "text/x-python",
   "name": "python",
   "nbconvert_exporter": "python",
   "pygments_lexer": "ipython3",
   "version": "3.7.1"
  }
 },
 "nbformat": 4,
 "nbformat_minor": 2
}
